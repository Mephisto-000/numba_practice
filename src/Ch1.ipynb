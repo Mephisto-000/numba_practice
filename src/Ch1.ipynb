{
 "cells": [
  {
   "cell_type": "markdown",
   "id": "acc42733-8ca3-48b4-85d1-fdd260575390",
   "metadata": {},
   "source": [
    "# A ~5 minute guide to Numba"
   ]
  },
  {
   "cell_type": "markdown",
   "id": "f45749f8-7a7d-4125-b5ec-b63bdb0ca58f",
   "metadata": {},
   "source": [
    "這邊就是簡單快速地介紹 Numba 是怎麼做的，主要都是參考寫在 README 中的 Reference 網站"
   ]
  },
  {
   "cell_type": "code",
   "execution_count": 1,
   "id": "89db0089-bb7c-4648-b453-d3f31dcdac3a",
   "metadata": {},
   "outputs": [],
   "source": [
    "import time\n",
    "import numpy as np\n",
    "import pandas as pd\n",
    "from numba import jit"
   ]
  },
  {
   "cell_type": "markdown",
   "id": "8a441c94-bf55-407b-8075-93eda7189c58",
   "metadata": {},
   "source": [
    "## 1. Will Numba work for my code?"
   ]
  },
  {
   "cell_type": "markdown",
   "id": "c695e6c2-8c22-47b6-837a-a7593a90cdef",
   "metadata": {},
   "source": [
    "這邊主要是說明，要是你的程式碼應用在數值計算並且當中大量地使用迴圈，那使用 Numba 是你不錯的選擇。\n",
    "那下面程式碼主要是說明使用 Numba 中的 `@jit` 裝飾器去用在 NumPy 和 Pandas 上。"
   ]
  },
  {
   "cell_type": "code",
   "execution_count": 2,
   "id": "610f10f4-9639-4afb-9a8f-997e3b32e0c6",
   "metadata": {},
   "outputs": [
    {
     "name": "stdout",
     "output_type": "stream",
     "text": [
      "[[  9.  10.  11.  12.  13.  14.  15.  16.  17.  18.]\n",
      " [ 19.  20.  21.  22.  23.  24.  25.  26.  27.  28.]\n",
      " [ 29.  30.  31.  32.  33.  34.  35.  36.  37.  38.]\n",
      " [ 39.  40.  41.  42.  43.  44.  45.  46.  47.  48.]\n",
      " [ 49.  50.  51.  52.  53.  54.  55.  56.  57.  58.]\n",
      " [ 59.  60.  61.  62.  63.  64.  65.  66.  67.  68.]\n",
      " [ 69.  70.  71.  72.  73.  74.  75.  76.  77.  78.]\n",
      " [ 79.  80.  81.  82.  83.  84.  85.  86.  87.  88.]\n",
      " [ 89.  90.  91.  92.  93.  94.  95.  96.  97.  98.]\n",
      " [ 99. 100. 101. 102. 103. 104. 105. 106. 107. 108.]]\n"
     ]
    }
   ],
   "source": [
    "x = np.arange(100).reshape(10, 10)\n",
    "\n",
    "@jit(nopython=True)               # Set \"nopython\" mode for best performance, equivalent to @njit\n",
    "def go_fast(a):                   # Function is compiled to machine code when called the first time\n",
    "    trace = 0.0\n",
    "    for i in range(a.shape[0]):   # Numba likes loops\n",
    "        trace += np.tanh(a[i, i]) # Numba likes NumPy functions\n",
    "    return a + trace              # Numba likes NumPy broadcasting\n",
    "\n",
    "print(go_fast(x))"
   ]
  },
  {
   "cell_type": "code",
   "execution_count": 3,
   "id": "a0209496-ba62-44a4-9e6d-9e8c58c87064",
   "metadata": {},
   "outputs": [
    {
     "name": "stdout",
     "output_type": "stream",
     "text": [
      "            0           1           2           3           4           5  \\\n",
      "0  916.666667  916.666667  916.666667  916.666667  916.666667  916.666667   \n",
      "1  916.666667  916.666667  916.666667  916.666667  916.666667  916.666667   \n",
      "2  916.666667  916.666667  916.666667  916.666667  916.666667  916.666667   \n",
      "3  916.666667  916.666667  916.666667  916.666667  916.666667  916.666667   \n",
      "4  916.666667  916.666667  916.666667  916.666667  916.666667  916.666667   \n",
      "5  916.666667  916.666667  916.666667  916.666667  916.666667  916.666667   \n",
      "6  916.666667  916.666667  916.666667  916.666667  916.666667  916.666667   \n",
      "7  916.666667  916.666667  916.666667  916.666667  916.666667  916.666667   \n",
      "8  916.666667  916.666667  916.666667  916.666667  916.666667  916.666667   \n",
      "9  916.666667  916.666667  916.666667  916.666667  916.666667  916.666667   \n",
      "\n",
      "            6           7           8           9  \n",
      "0  916.666667  916.666667  916.666667  916.666667  \n",
      "1  916.666667  916.666667  916.666667  916.666667  \n",
      "2  916.666667  916.666667  916.666667  916.666667  \n",
      "3  916.666667  916.666667  916.666667  916.666667  \n",
      "4  916.666667  916.666667  916.666667  916.666667  \n",
      "5  916.666667  916.666667  916.666667  916.666667  \n",
      "6  916.666667  916.666667  916.666667  916.666667  \n",
      "7  916.666667  916.666667  916.666667  916.666667  \n",
      "8  916.666667  916.666667  916.666667  916.666667  \n",
      "9  916.666667  916.666667  916.666667  916.666667  \n"
     ]
    },
    {
     "name": "stderr",
     "output_type": "stream",
     "text": [
      "<ipython-input-3-7e9780beb20f>:1: NumbaWarning: \n",
      "Compilation is falling back to object mode WITH looplifting enabled because Function \"use_pandas\" failed type inference due to: Unknown attribute 'DataFrame' of type Module(<module 'pandas' from '/home/mephisto/anaconda3/envs/nu_numba/lib/python3.8/site-packages/pandas/__init__.py'>)\n",
      "\n",
      "File \"<ipython-input-3-7e9780beb20f>\", line 3:\n",
      "def use_pandas(a): # Function will not benefit from Numba jit\n",
      "    df = pd.DataFrame.from_dict(a) # Numba doesn't know about pd.DataFrame\n",
      "    ^\n",
      "\n",
      "During: typing of get attribute at <ipython-input-3-7e9780beb20f> (3)\n",
      "\n",
      "File \"<ipython-input-3-7e9780beb20f>\", line 3:\n",
      "def use_pandas(a): # Function will not benefit from Numba jit\n",
      "    df = pd.DataFrame.from_dict(a) # Numba doesn't know about pd.DataFrame\n",
      "    ^\n",
      "\n",
      "  @jit\n",
      "/home/mephisto/anaconda3/envs/nu_numba/lib/python3.8/site-packages/numba/core/object_mode_passes.py:151: NumbaWarning: Function \"use_pandas\" was compiled in object mode without forceobj=True.\n",
      "\n",
      "File \"<ipython-input-3-7e9780beb20f>\", line 2:\n",
      "@jit\n",
      "def use_pandas(a): # Function will not benefit from Numba jit\n",
      "^\n",
      "\n",
      "  warnings.warn(errors.NumbaWarning(warn_msg,\n",
      "/home/mephisto/anaconda3/envs/nu_numba/lib/python3.8/site-packages/numba/core/object_mode_passes.py:161: NumbaDeprecationWarning: \n",
      "Fall-back from the nopython compilation path to the object mode compilation path has been detected, this is deprecated behaviour.\n",
      "\n",
      "For more information visit https://numba.readthedocs.io/en/stable/reference/deprecation.html#deprecation-of-object-mode-fall-back-behaviour-when-using-jit\n",
      "\n",
      "File \"<ipython-input-3-7e9780beb20f>\", line 2:\n",
      "@jit\n",
      "def use_pandas(a): # Function will not benefit from Numba jit\n",
      "^\n",
      "\n",
      "  warnings.warn(errors.NumbaDeprecationWarning(msg,\n"
     ]
    }
   ],
   "source": [
    "@jit\n",
    "def use_pandas(a): # Function will not benefit from Numba jit\n",
    "    df = pd.DataFrame.from_dict(a) # Numba doesn't know about pd.DataFrame\n",
    "    df += 1                        # Numba doesn't understand what this is\n",
    "    return df.cov()                # or this!\n",
    "\n",
    "print(use_pandas(x))"
   ]
  },
  {
   "cell_type": "markdown",
   "id": "bba156eb-90ee-456f-9bba-933c5013eff8",
   "metadata": {},
   "source": [
    "從上面的運行結果可以發現，Numba 無法應用在 Pandas 上，所以會出警告訊息"
   ]
  },
  {
   "cell_type": "markdown",
   "id": "e1a743f8-8d78-4817-b665-639ec63e5a4a",
   "metadata": {},
   "source": [
    "## 2. What is `nopython` mode?"
   ]
  },
  {
   "cell_type": "markdown",
   "id": "8cf021cf-518b-436b-a786-ca8aaf105dc5",
   "metadata": {},
   "source": [
    "從上面 NumPy 的例子可以發現說，在裝飾器 `@jit` 後面有個 `nopython` 參數的選擇，簡要來說，當設置為 `true` 時，會將你的程式碼直接轉成機器語言，藉此提升運算速度。"
   ]
  },
  {
   "cell_type": "markdown",
   "id": "56da036e-e81e-4d48-ba76-c3252d4a7fbe",
   "metadata": {},
   "source": [
    "## 3. How to measure the performance of Numba?"
   ]
  },
  {
   "cell_type": "markdown",
   "id": "cc4d1350-6892-42fd-9840-1885d5b4a9bb",
   "metadata": {},
   "source": [
    "下面是用 `time` 去測量 Numba 的運算效率 ： "
   ]
  },
  {
   "cell_type": "code",
   "execution_count": 4,
   "id": "147c1332-f40f-4dbd-8a64-57fc6fd6f6d9",
   "metadata": {},
   "outputs": [
    {
     "name": "stdout",
     "output_type": "stream",
     "text": [
      "Elapsed (with compilation) = 0.07662968899990119s\n",
      "Elapsed (after compilation) = 2.177999999730673e-05s\n"
     ]
    }
   ],
   "source": [
    "x = np.arange(100).reshape(10, 10)\n",
    "\n",
    "@jit(nopython=True)\n",
    "def go_fast(a):  # Function is compiled and runs in machine code\n",
    "    trace = 0.0\n",
    "    for i in range(a.shape[0]):\n",
    "        trace += np.tanh(a[i, i])\n",
    "    return a + trace\n",
    "\n",
    "# DO NOT REPORT THIS... COMPILATION TIME IS INCLUDED IN THE EXECUTION TIME!\n",
    "start = time.perf_counter()\n",
    "go_fast(x)\n",
    "end = time.perf_counter()\n",
    "print(\"Elapsed (with compilation) = {}s\".format((end - start)))\n",
    "\n",
    "# NOW THE FUNCTION IS COMPILED, RE-TIME IT EXECUTING FROM CACHE\n",
    "start = time.perf_counter()\n",
    "go_fast(x)\n",
    "end = time.perf_counter()\n",
    "print(\"Elapsed (after compilation) = {}s\".format((end - start)))"
   ]
  },
  {
   "cell_type": "markdown",
   "id": "f2d0f9c9-d368-4e7c-b6f6-29c2ac41bb5f",
   "metadata": {},
   "source": [
    "從上面可以看到，只要使用 Numba 編譯過一次，在藉由緩存再次計算的程式效率。"
   ]
  },
  {
   "cell_type": "markdown",
   "id": "a9a48b38-1539-42d5-8b0f-05fdd9a9be0e",
   "metadata": {},
   "source": [
    "## 4. NumPy v.s. Numba"
   ]
  },
  {
   "cell_type": "markdown",
   "id": "12d909f8-648b-4f72-9ba3-5b6faef61e9d",
   "metadata": {},
   "source": [
    "這邊來比較一下 NumPy 和 Numba 的效率 ： "
   ]
  },
  {
   "cell_type": "code",
   "execution_count": 5,
   "id": "f9a29cfd-9f99-4d85-97a2-bec19b331bfd",
   "metadata": {},
   "outputs": [
    {
     "name": "stdout",
     "output_type": "stream",
     "text": [
      "NumPy time cost : 0.9824647903442383\n",
      "Numba time cost : 0.11569905281066895\n"
     ]
    }
   ],
   "source": [
    "t = np.linspace(1, 1000000, 2000000)\n",
    "\n",
    "def numpy_do_numerical(x):\n",
    "    tmp = 0.0\n",
    "    for i in range(x.shape[0]):\n",
    "        tmp += np.sin(i)\n",
    "    return np.sum(x) + tmp\n",
    "\n",
    "@jit(nopython=True)\n",
    "def numba_do_numerical(x):\n",
    "    tmp = 0.0\n",
    "    for i in range(x.shape[0]):\n",
    "        tmp += np.sin(i)\n",
    "    return np.sum(x) + tmp\n",
    "\n",
    "\n",
    "time_0 = time.time()\n",
    "numpy_test = numpy_do_numerical(t)\n",
    "time_1 = time.time()\n",
    "numba_test = numba_do_numerical(t)\n",
    "time_2 = time.time()\n",
    "\n",
    "numpy_time_cost = time_1 - time_0\n",
    "numba_time_cost = time_2 - time_1\n",
    "\n",
    "print(f'NumPy time cost : {numpy_time_cost}')\n",
    "print(f'Numba time cost : {numba_time_cost}')"
   ]
  },
  {
   "cell_type": "code",
   "execution_count": null,
   "id": "be3d0fef-8ffa-4c90-914b-a51a02d857f1",
   "metadata": {},
   "outputs": [],
   "source": []
  }
 ],
 "metadata": {
  "kernelspec": {
   "display_name": "Python 3",
   "language": "python",
   "name": "python3"
  },
  "language_info": {
   "codemirror_mode": {
    "name": "ipython",
    "version": 3
   },
   "file_extension": ".py",
   "mimetype": "text/x-python",
   "name": "python",
   "nbconvert_exporter": "python",
   "pygments_lexer": "ipython3",
   "version": "3.8.13"
  }
 },
 "nbformat": 4,
 "nbformat_minor": 5
}
